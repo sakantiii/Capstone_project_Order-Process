{
 "cells": [
  {
   "cell_type": "markdown",
   "metadata": {},
   "source": [
    "## **Mengimpor libaries** "
   ]
  },
  {
   "cell_type": "code",
   "execution_count": 1,
   "metadata": {},
   "outputs": [],
   "source": [
    "# Mengimpor libaries pandas,numpy dan json untuk memproses data dalam format JSON\n",
    "import pandas as pd\n",
    "import numpy as np\n",
    "import json\n",
    "import matplotlib.pyplot as plt\n",
    "import seaborn as sns\n",
    "\n",
    "# import warning to ignore warning\n",
    "import warnings\n",
    "warnings.filterwarnings('ignore')\n",
    "\n",
    "pd.set_option('display.max_columns', None)"
   ]
  },
  {
   "cell_type": "markdown",
   "metadata": {},
   "source": [
    "## **Install mysql connector**"
   ]
  },
  {
   "cell_type": "code",
   "execution_count": 2,
   "metadata": {},
   "outputs": [],
   "source": [
    "# import libraries\n",
    "import mysql.connector\n",
    "from mysql.connector import Error"
   ]
  },
  {
   "cell_type": "code",
   "execution_count": 3,
   "metadata": {},
   "outputs": [],
   "source": [
    "# Define MySQL details\n",
    "host   = 'okegarden-laravel-prod-db-2024-11-15-0200.cgwhhgh85mr3.ap-southeast-3.rds.amazonaws.com'\n",
    "port   = '3306'\n",
    "user   = 'intern_mes'\n",
    "passwd = 'sdfDFLES342982Ddlsdksd'\n",
    "databs = 'okegarden_laravel_prod_db'"
   ]
  },
  {
   "cell_type": "code",
   "execution_count": 4,
   "metadata": {},
   "outputs": [],
   "source": [
    "# function to fetch data from database, the connection is closed after use.\n",
    "def fetch_data(host_name, port_name, user_name, user_password, db_name, query, params=None):\n",
    "    try:\n",
    "        # use with to ensure the connection is closed after use\n",
    "        with mysql.connector.connect(\n",
    "            host=host_name,\n",
    "            port=port_name,\n",
    "            user=user_name,\n",
    "            password=user_password,\n",
    "            database=db_name\n",
    "        ) as connection:\n",
    "            data = pd.read_sql(query, connection, params=params) # read the query to dataframe format\n",
    "            return data\n",
    "\n",
    "    except Error as e:\n",
    "        print(f\"Error while connecting to MySQL or fetching data: {e}\")\n",
    "        return None"
   ]
  },
  {
   "cell_type": "code",
   "execution_count": 5,
   "metadata": {},
   "outputs": [],
   "source": [
    "query = \"\"\"\n",
    "\n",
    "WITH order_design_status AS (\n",
    "    SELECT\n",
    "        id_design_finish AS id_design, \n",
    "        status AS status_order_design,\n",
    "        created_at AS start_time\n",
    "    FROM\n",
    "        order_design\n",
    "    WHERE\n",
    "        status = 'finish'\n",
    "),\n",
    "order_garden_status AS (\n",
    "    SELECT\n",
    "        id_design AS id_design,\n",
    "        status AS status_order_garden,\n",
    "        created_at AS end_time\n",
    "    FROM\n",
    "        order_garden \n",
    "    WHERE\n",
    "        status = 'finish'\n",
    "),\n",
    "durations AS (\n",
    "    SELECT\n",
    "        ds.id_design,\n",
    "        TIMESTAMPDIFF(HOUR, ds.start_time, gs.end_time) AS duration_hours,\n",
    "        YEAR(ds.start_time) AS year,\n",
    "        MONTH(ds.start_time) AS month\n",
    "    FROM\n",
    "        order_design_status ds\n",
    "    INNER JOIN\n",
    "        order_garden_status gs \n",
    "    ON \n",
    "        ds.id_design = gs.id_design\n",
    "    WHERE\n",
    "        ds.start_time IS NOT NULL AND gs.end_time IS NOT NULL\n",
    ")\n",
    "select * from durations;\n",
    "\n",
    "\n",
    "\"\"\"\n",
    "design_build = fetch_data(host, port, user, passwd, databs, query)"
   ]
  },
  {
   "cell_type": "markdown",
   "metadata": {},
   "source": [
    "Kode ini digunakan untuk menganalisis data dari dua tabel, yaitu **order design** dan **order garden**. Tujuannya adalah untuk mencari **order cycle time** dari tahap desain hingga tahap pembangunan. Berikut adalah langkah-langkah yang dilakukan dalam kode ini:\n",
    "\n",
    "- **Mengambil Data**: Kode ini pertama-tama mengambil data dari tabel yang relevan, yaitu `order design` dan `order garden`.\n",
    "  \n",
    "- **Menghitung Waktu Siklus**: Setelah data diambil, kode ini menghitung waktu siklus pesanan dengan mengukur selisih waktu antara tahap desain dan tahap pembangunan.\n",
    "\n",
    "- **Menampilkan Hasil**: Hasil dari perhitungan waktu siklus kemudian ditampilkan untuk analisis lebih lanjut.\n"
   ]
  },
  {
   "cell_type": "markdown",
   "metadata": {},
   "source": [
    "## **Explore Data**"
   ]
  },
  {
   "cell_type": "code",
   "execution_count": 6,
   "metadata": {},
   "outputs": [
    {
     "data": {
      "text/html": [
       "<div>\n",
       "<style scoped>\n",
       "    .dataframe tbody tr th:only-of-type {\n",
       "        vertical-align: middle;\n",
       "    }\n",
       "\n",
       "    .dataframe tbody tr th {\n",
       "        vertical-align: top;\n",
       "    }\n",
       "\n",
       "    .dataframe thead th {\n",
       "        text-align: right;\n",
       "    }\n",
       "</style>\n",
       "<table border=\"1\" class=\"dataframe\">\n",
       "  <thead>\n",
       "    <tr style=\"text-align: right;\">\n",
       "      <th></th>\n",
       "      <th>id_design</th>\n",
       "      <th>duration_hours</th>\n",
       "      <th>year</th>\n",
       "      <th>month</th>\n",
       "    </tr>\n",
       "  </thead>\n",
       "  <tbody>\n",
       "    <tr>\n",
       "      <th>0</th>\n",
       "      <td>214</td>\n",
       "      <td>601</td>\n",
       "      <td>2024</td>\n",
       "      <td>4</td>\n",
       "    </tr>\n",
       "    <tr>\n",
       "      <th>1</th>\n",
       "      <td>227</td>\n",
       "      <td>1412</td>\n",
       "      <td>2024</td>\n",
       "      <td>5</td>\n",
       "    </tr>\n",
       "    <tr>\n",
       "      <th>2</th>\n",
       "      <td>232</td>\n",
       "      <td>2774</td>\n",
       "      <td>2024</td>\n",
       "      <td>5</td>\n",
       "    </tr>\n",
       "    <tr>\n",
       "      <th>3</th>\n",
       "      <td>255</td>\n",
       "      <td>1080</td>\n",
       "      <td>2024</td>\n",
       "      <td>5</td>\n",
       "    </tr>\n",
       "    <tr>\n",
       "      <th>4</th>\n",
       "      <td>260</td>\n",
       "      <td>1055</td>\n",
       "      <td>2024</td>\n",
       "      <td>5</td>\n",
       "    </tr>\n",
       "  </tbody>\n",
       "</table>\n",
       "</div>"
      ],
      "text/plain": [
       "   id_design  duration_hours  year  month\n",
       "0        214             601  2024      4\n",
       "1        227            1412  2024      5\n",
       "2        232            2774  2024      5\n",
       "3        255            1080  2024      5\n",
       "4        260            1055  2024      5"
      ]
     },
     "execution_count": 6,
     "metadata": {},
     "output_type": "execute_result"
    }
   ],
   "source": [
    "# Menampilkan 5 baris pertama data.\n",
    "design_build.head()"
   ]
  },
  {
   "cell_type": "code",
   "execution_count": 7,
   "metadata": {},
   "outputs": [
    {
     "data": {
      "text/html": [
       "<div>\n",
       "<style scoped>\n",
       "    .dataframe tbody tr th:only-of-type {\n",
       "        vertical-align: middle;\n",
       "    }\n",
       "\n",
       "    .dataframe tbody tr th {\n",
       "        vertical-align: top;\n",
       "    }\n",
       "\n",
       "    .dataframe thead th {\n",
       "        text-align: right;\n",
       "    }\n",
       "</style>\n",
       "<table border=\"1\" class=\"dataframe\">\n",
       "  <thead>\n",
       "    <tr style=\"text-align: right;\">\n",
       "      <th></th>\n",
       "      <th>id_design</th>\n",
       "      <th>duration_hours</th>\n",
       "      <th>year</th>\n",
       "      <th>month</th>\n",
       "    </tr>\n",
       "  </thead>\n",
       "  <tbody>\n",
       "    <tr>\n",
       "      <th>67</th>\n",
       "      <td>534</td>\n",
       "      <td>820</td>\n",
       "      <td>2024</td>\n",
       "      <td>9</td>\n",
       "    </tr>\n",
       "    <tr>\n",
       "      <th>68</th>\n",
       "      <td>543</td>\n",
       "      <td>539</td>\n",
       "      <td>2024</td>\n",
       "      <td>10</td>\n",
       "    </tr>\n",
       "    <tr>\n",
       "      <th>69</th>\n",
       "      <td>542</td>\n",
       "      <td>225</td>\n",
       "      <td>2024</td>\n",
       "      <td>10</td>\n",
       "    </tr>\n",
       "    <tr>\n",
       "      <th>70</th>\n",
       "      <td>556</td>\n",
       "      <td>261</td>\n",
       "      <td>2024</td>\n",
       "      <td>10</td>\n",
       "    </tr>\n",
       "    <tr>\n",
       "      <th>71</th>\n",
       "      <td>559</td>\n",
       "      <td>82</td>\n",
       "      <td>2024</td>\n",
       "      <td>10</td>\n",
       "    </tr>\n",
       "  </tbody>\n",
       "</table>\n",
       "</div>"
      ],
      "text/plain": [
       "    id_design  duration_hours  year  month\n",
       "67        534             820  2024      9\n",
       "68        543             539  2024     10\n",
       "69        542             225  2024     10\n",
       "70        556             261  2024     10\n",
       "71        559              82  2024     10"
      ]
     },
     "execution_count": 7,
     "metadata": {},
     "output_type": "execute_result"
    }
   ],
   "source": [
    "design_build.tail()"
   ]
  },
  {
   "cell_type": "code",
   "execution_count": 8,
   "metadata": {},
   "outputs": [
    {
     "name": "stdout",
     "output_type": "stream",
     "text": [
      "<class 'pandas.core.frame.DataFrame'>\n",
      "RangeIndex: 72 entries, 0 to 71\n",
      "Data columns (total 4 columns):\n",
      " #   Column          Non-Null Count  Dtype\n",
      "---  ------          --------------  -----\n",
      " 0   id_design       72 non-null     int64\n",
      " 1   duration_hours  72 non-null     int64\n",
      " 2   year            72 non-null     int64\n",
      " 3   month           72 non-null     int64\n",
      "dtypes: int64(4)\n",
      "memory usage: 2.4 KB\n"
     ]
    }
   ],
   "source": [
    "design_build.info()"
   ]
  },
  {
   "cell_type": "markdown",
   "metadata": {},
   "source": [
    "## **Data Cleaning**\n",
    "\n",
    "#### Pada langkah ini, kita berupaya mengidentifikasi baris dan kolom yang berisi nilai yang hilang"
   ]
  },
  {
   "cell_type": "code",
   "execution_count": 9,
   "metadata": {},
   "outputs": [
    {
     "data": {
      "text/plain": [
       "id_design         0\n",
       "duration_hours    0\n",
       "year              0\n",
       "month             0\n",
       "dtype: int64"
      ]
     },
     "execution_count": 9,
     "metadata": {},
     "output_type": "execute_result"
    }
   ],
   "source": [
    "# Check null values \n",
    "design_build.isnull().sum()"
   ]
  },
  {
   "cell_type": "code",
   "execution_count": 10,
   "metadata": {},
   "outputs": [
    {
     "name": "stdout",
     "output_type": "stream",
     "text": [
      "Tidak ada duplikat pada seluruh kolom.\n"
     ]
    }
   ],
   "source": [
    "# Mencari dan memeriksa duplikat dalam DataFrame 'order_cycletime'\n",
    "duplicates = design_build[design_build.duplicated()]\n",
    "if duplicates.empty:\n",
    "    print(\"Tidak ada duplikat pada seluruh kolom.\")\n",
    "else:\n",
    "    print(f\"Total duplicate rows (all columns): {len (duplicates)}\")\n",
    "    print(\"\\nDuplicate Rows (all columns):\")\n",
    "    print(duplicates)"
   ]
  },
  {
   "cell_type": "markdown",
   "metadata": {},
   "source": [
    "Berdasarkan hasil pemeriksaan duplikasi dengan menggunakan metode .duplicated(), tidak ditemukan data yang duplikat pada seluruh kolom di DataFrame order_cycletime."
   ]
  },
  {
   "cell_type": "markdown",
   "metadata": {},
   "source": [
    "## **Data Transformation**\n",
    "\n",
    "##### Pada tahap ini, kami melakukan serangkaian transformasi data yang bertujuan untuk mempersiapkan dataset agar lebih siap untuk analisis mendalam.  \n",
    "##### Transformasi ini mencakup dua aspek utama: pembuatan kolom baru dan pengubahan tipe data."
   ]
  },
  {
   "cell_type": "code",
   "execution_count": 11,
   "metadata": {},
   "outputs": [
    {
     "data": {
      "text/html": [
       "<div>\n",
       "<style scoped>\n",
       "    .dataframe tbody tr th:only-of-type {\n",
       "        vertical-align: middle;\n",
       "    }\n",
       "\n",
       "    .dataframe tbody tr th {\n",
       "        vertical-align: top;\n",
       "    }\n",
       "\n",
       "    .dataframe thead th {\n",
       "        text-align: right;\n",
       "    }\n",
       "</style>\n",
       "<table border=\"1\" class=\"dataframe\">\n",
       "  <thead>\n",
       "    <tr style=\"text-align: right;\">\n",
       "      <th></th>\n",
       "      <th>month</th>\n",
       "      <th>duration_hours</th>\n",
       "      <th>time_interval_status_days</th>\n",
       "    </tr>\n",
       "  </thead>\n",
       "  <tbody>\n",
       "    <tr>\n",
       "      <th>0</th>\n",
       "      <td>4</td>\n",
       "      <td>601.000000</td>\n",
       "      <td>25 Hari</td>\n",
       "    </tr>\n",
       "    <tr>\n",
       "      <th>1</th>\n",
       "      <td>5</td>\n",
       "      <td>1113.555556</td>\n",
       "      <td>46 Hari</td>\n",
       "    </tr>\n",
       "    <tr>\n",
       "      <th>2</th>\n",
       "      <td>6</td>\n",
       "      <td>552.923077</td>\n",
       "      <td>23 Hari</td>\n",
       "    </tr>\n",
       "    <tr>\n",
       "      <th>3</th>\n",
       "      <td>7</td>\n",
       "      <td>405.294118</td>\n",
       "      <td>16 Hari</td>\n",
       "    </tr>\n",
       "    <tr>\n",
       "      <th>4</th>\n",
       "      <td>8</td>\n",
       "      <td>584.928571</td>\n",
       "      <td>24 Hari</td>\n",
       "    </tr>\n",
       "    <tr>\n",
       "      <th>5</th>\n",
       "      <td>9</td>\n",
       "      <td>683.571429</td>\n",
       "      <td>28 Hari</td>\n",
       "    </tr>\n",
       "    <tr>\n",
       "      <th>6</th>\n",
       "      <td>10</td>\n",
       "      <td>276.750000</td>\n",
       "      <td>11 Hari</td>\n",
       "    </tr>\n",
       "  </tbody>\n",
       "</table>\n",
       "</div>"
      ],
      "text/plain": [
       "   month  duration_hours time_interval_status_days\n",
       "0      4      601.000000                   25 Hari\n",
       "1      5     1113.555556                   46 Hari\n",
       "2      6      552.923077                   23 Hari\n",
       "3      7      405.294118                   16 Hari\n",
       "4      8      584.928571                   24 Hari\n",
       "5      9      683.571429                   28 Hari\n",
       "6     10      276.750000                   11 Hari"
      ]
     },
     "execution_count": 11,
     "metadata": {},
     "output_type": "execute_result"
    }
   ],
   "source": [
    "design_build = design_build.groupby('month')['duration_hours'].mean().reset_index()\n",
    "design_build['time_interval_status_days'] = design_build['duration_hours'].apply(lambda x: f\"{int(x // 24)} Hari\")\n",
    "design_build"
   ]
  },
  {
   "cell_type": "code",
   "execution_count": 12,
   "metadata": {},
   "outputs": [
    {
     "data": {
      "text/plain": [
       "month                          int64\n",
       "duration_hours               float64\n",
       "time_interval_status_days     object\n",
       "dtype: object"
      ]
     },
     "execution_count": 12,
     "metadata": {},
     "output_type": "execute_result"
    }
   ],
   "source": [
    "design_build.dtypes"
   ]
  },
  {
   "cell_type": "markdown",
   "metadata": {},
   "source": [
    "## **Analysis and Visualization**\n",
    "Tahap \"Analysis and Visualization\" (Analisis dan Visualisasi) adalah langkah krusial dalam proses eksplorasi data. Dalam konteks ini, kita berfokus pada dua aspek utama: ringkasan **statistik (summary statistics)** dan **visualisasi data**"
   ]
  },
  {
   "cell_type": "code",
   "execution_count": 13,
   "metadata": {},
   "outputs": [
    {
     "data": {
      "image/png": "[encoded data removed]",
      "text/plain": [
       "<Figure size 1300x800 with 1 Axes>"
      ]
     },
     "metadata": {},
     "output_type": "display_data"
    }
   ],
   "source": [
    "plt.figure(figsize=(13, 8))\n",
    "sns.lineplot(data=design_build, x='month', y='duration_hours', marker='o', color='blue', ci=None)\n",
    "\n",
    "# Tambahkan label dari kolom 'time_interval_status_days' di dekat setiap titik\n",
    "for x, y, label in zip(design_build['month'], design_build['duration_hours'], design_build['time_interval_status_days']):\n",
    "    plt.text(x, y + 20, label, color='black', ha='center', fontsize=9)\n",
    "\n",
    "# Tambahkan judul dan label\n",
    "plt.title('Average Order Cycle Design + Build', fontsize=14)\n",
    "plt.xlabel('Month', fontsize=12)\n",
    "plt.ylabel('Duration Hours', fontsize=12)\n",
    "plt.grid(True)\n",
    "\n",
    "# Tampilkan grafik\n",
    "plt.show()"
   ]
  },
  {
   "cell_type": "markdown",
   "metadata": {},
   "source": [
    "### Grafik di atas menggambarkan rata-rata waktu yang dibutuhkan untuk menyelesaikan satu siklus pesanan (dari tahap desain hingga pembangunan) setiap bulannya.\n",
    "\n",
    "- **Fluktuasi Waktu**: Waktu yang dibutuhkan untuk menyelesaikan satu pesanan mengalami fluktuasi yang cukup signifikan dari bulan ke bulan.  \n",
    "- **Puncak**: Waktu yang paling lama dibutuhkan adalah pada bulan 5, yaitu sekitar 46 hari.  \n",
    "- **Titik Terendah**: Waktu yang paling singkat dibutuhkan adalah pada bulan 10, yaitu sekitar 1 hari.  \n",
    "- **Tren Umum**: Secara umum, ada kecenderungan penurunan waktu penyelesaian dari bulan 5 hingga bulan 10, meskipun terdapat beberapa fluktuasi di antaranya.  "
   ]
  },
  {
   "cell_type": "code",
   "execution_count": null,
   "metadata": {},
   "outputs": [],
   "source": []
  },
  {
   "cell_type": "code",
   "execution_count": null,
   "metadata": {},
   "outputs": [],
   "source": []
  }
 ],
 "metadata": {
  "kernelspec": {
   "display_name": "Python 3",
   "language": "python",
   "name": "python3"
  },
  "language_info": {
   "codemirror_mode": {
    "name": "ipython",
    "version": 3
   },
   "file_extension": ".py",
   "mimetype": "text/x-python",
   "name": "python",
   "nbconvert_exporter": "python",
   "pygments_lexer": "ipython3",
   "version": "3.13.0"
  }
 },
 "nbformat": 4,
 "nbformat_minor": 2
}
